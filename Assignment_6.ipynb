{
 "cells": [
  {
   "cell_type": "markdown",
   "metadata": {},
   "source": [
    "# Python code to convert Lists to Dictionary using List comprehension"
   ]
  },
  {
   "cell_type": "code",
   "execution_count": 1,
   "metadata": {},
   "outputs": [
    {
     "name": "stdout",
     "output_type": "stream",
     "text": [
      "Original key list is : ['Rash', 'Kil', 'Varsha']\n",
      "Original value list is : [1, 4, 5]\n",
      "Resultant dictionary is : {'Rash': 1, 'Kil': 4, 'Varsha': 5}\n"
     ]
    }
   ],
   "source": [
    "test_keys = [\"Rash\", \"Kil\", \"Varsha\"] \n",
    "test_values = [1, 4, 5] \n",
    "  \n",
    "# Printing original keys-value lists \n",
    "print (\"Original key list is : \" + str(test_keys)) \n",
    "print (\"Original value list is : \" + str(test_values)) \n",
    "  \n",
    "# using dictionary comprehension \n",
    "# to convert lists to dictionary \n",
    "res = {test_keys[i]: test_values[i] for i in range(len(test_keys))} \n",
    "  \n",
    "# Printing resultant dictionary  \n",
    "print (\"Resultant dictionary is : \" +  str(res))"
   ]
  },
  {
   "cell_type": "code",
   "execution_count": null,
   "metadata": {},
   "outputs": [],
   "source": []
  }
 ],
 "metadata": {
  "kernelspec": {
   "display_name": "Python 3",
   "language": "python",
   "name": "python3"
  },
  "language_info": {
   "codemirror_mode": {
    "name": "ipython",
    "version": 3
   },
   "file_extension": ".py",
   "mimetype": "text/x-python",
   "name": "python",
   "nbconvert_exporter": "python",
   "pygments_lexer": "ipython3",
   "version": "3.7.6"
  }
 },
 "nbformat": 4,
 "nbformat_minor": 4
}
