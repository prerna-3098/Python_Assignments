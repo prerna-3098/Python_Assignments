{
 "cells": [
  {
   "cell_type": "markdown",
   "metadata": {},
   "source": [
    "# Python code to convert Lists to Dictionary using List comprehension"
   ]
  },
  {
   "cell_type": "code",
   "execution_count": 2,
   "metadata": {},
   "outputs": [
    {
     "name": "stdout",
     "output_type": "stream",
     "text": [
      "Original key list is : [1, 2, 3, 4, 5, 7, 8]\n",
      "Original value list is : ['a', 'b', 'c', 'd', 'e', 'f', 'g']\n",
      "Resultant dictionary is : {1: 'a', 2: 'b', 3: 'c', 4: 'd', 5: 'e', 7: 'f', 8: 'g'}\n"
     ]
    }
   ],
   "source": [
    "list1 = [1,2,3,4,5,7,8] \n",
    "list2 = [\"a\",\"b\",\"c\",\"d\",\"e\",\"f\",\"g\"] \n",
    "  \n",
    "print (\"Original key list is : \" + str(list1)) \n",
    "print (\"Original value list is : \" + str(list2)) \n",
    "\n",
    "# to convert lists to dictionary \n",
    "reslt = {list1[i]: list2[i] for i in range(len(list1))} \n",
    "  \n",
    "# Printing resultant dictionary  \n",
    "print (\"Resultant dictionary is : \" +  str(reslt))"
   ]
  },
  {
   "cell_type": "code",
   "execution_count": null,
   "metadata": {},
   "outputs": [],
   "source": []
  }
 ],
 "metadata": {
  "kernelspec": {
   "display_name": "Python 3",
   "language": "python",
   "name": "python3"
  },
  "language_info": {
   "codemirror_mode": {
    "name": "ipython",
    "version": 3
   },
   "file_extension": ".py",
   "mimetype": "text/x-python",
   "name": "python",
   "nbconvert_exporter": "python",
   "pygments_lexer": "ipython3",
   "version": "3.7.6"
  }
 },
 "nbformat": 4,
 "nbformat_minor": 4
}
