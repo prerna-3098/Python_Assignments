{
 "cells": [
  {
   "cell_type": "markdown",
   "metadata": {},
   "source": [
    "# Python code for sorting a list and bringing all the Zero's at the right hand side."
   ]
  },
  {
   "cell_type": "code",
   "execution_count": 1,
   "metadata": {},
   "outputs": [
    {
     "name": "stdout",
     "output_type": "stream",
     "text": [
      "Element After Sorting List in Ascending Order is :  [0, 0, 0, 0, 0, 1, 1, 1, 2, 2, 3, 4, 4, 10, 56, 56]\n",
      "After Moving all the Zeros to the Right Hand side :  [1, 1, 1, 2, 2, 3, 4, 4, 10, 56, 56, 0, 0, 0, 0, 0]\n"
     ]
    }
   ],
   "source": [
    "list_main = [0,1,2,10,4,1,0,56,2,0,1,3,0,56,0,4]\n",
    "\n",
    "Number = len(list_main)\n",
    "\n",
    "\n",
    "for i in range (Number):\n",
    "    for j in range(i + 1, Number):\n",
    "        if(list_main[i==0]):\n",
    "            continue\n",
    "        if(list_main[i] > list_main[j]):\n",
    "            temp = list_main[i]\n",
    "            list_main[i] = list_main[j]\n",
    "            list_main[j] = temp\n",
    "\n",
    "print(\"Element After Sorting List in Ascending Order is : \", list_main)\n",
    "def move_zero(num_list):\n",
    "    a = [0 for i in range(num_list.count(0))]\n",
    "    x = [ i for i in num_list if i != 0]\n",
    "    x.extend(a)\n",
    "    return(x)\n",
    "print(\"After Moving all the Zeros to the Right Hand side : \",move_zero(list_main))"
   ]
  },
  {
   "cell_type": "markdown",
   "metadata": {},
   "source": [
    "# Python code for Merging two sorted list and Creating one sorted List"
   ]
  },
  {
   "cell_type": "code",
   "execution_count": 2,
   "metadata": {},
   "outputs": [
    {
     "name": "stdout",
     "output_type": "stream",
     "text": [
      "The original list 1 is :  [10, 20, 40, 60, 70, 80]\n",
      "The original list 2 is :  [5, 15, 25, 35, 45, 60]\n",
      "The combined sorted list is : [5, 10, 15, 20, 25, 35, 40, 45, 60, 60, 70, 80]\n"
     ]
    }
   ],
   "source": [
    "list1 = [10,20,40,60,70,80] \n",
    "list2 = [5,15,25,35,45,60] \n",
    "  \n",
    "# printing original lists  \n",
    "print (\"The original list 1 is : \" ,list1) \n",
    "print (\"The original list 2 is : \" ,list2) \n",
    "\n",
    "size_1 = len(list1) \n",
    "size_2 = len(list2) \n",
    "  \n",
    "res = [] \n",
    "i, j = 0, 0\n",
    "  \n",
    "while i < size_1 and j < size_2: \n",
    "    if list1[i] < list2[j]: \n",
    "      res.append(list1[i]) \n",
    "      i += 1\n",
    "  \n",
    "    else: \n",
    "      res.append(list2[j]) \n",
    "      j += 1\n",
    "  \n",
    "res = res + list1[i:] + list2[j:] \n",
    "  \n",
    "# printing result \n",
    "print (\"The combined sorted list is : \" + str(res)) "
   ]
  },
  {
   "cell_type": "code",
   "execution_count": null,
   "metadata": {},
   "outputs": [],
   "source": []
  }
 ],
 "metadata": {
  "kernelspec": {
   "display_name": "Python 3",
   "language": "python",
   "name": "python3"
  },
  "language_info": {
   "codemirror_mode": {
    "name": "ipython",
    "version": 3
   },
   "file_extension": ".py",
   "mimetype": "text/x-python",
   "name": "python",
   "nbconvert_exporter": "python",
   "pygments_lexer": "ipython3",
   "version": "3.7.6"
  }
 },
 "nbformat": 4,
 "nbformat_minor": 4
}
